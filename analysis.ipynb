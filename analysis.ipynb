{
 "cells": [
  {
   "cell_type": "code",
   "execution_count": 2,
   "metadata": {},
   "outputs": [],
   "source": [
    "# python 3.9.8"
   ]
  },
  {
   "cell_type": "code",
   "execution_count": 3,
   "metadata": {},
   "outputs": [
    {
     "name": "stdout",
     "output_type": "stream",
     "text": [
      "Defaulting to user installation because normal site-packages is not writeable\n",
      "Requirement already satisfied: numpy==1.26.0 in /home/Gokulprasath.R/.local/lib/python3.9/site-packages (1.26.0)\n",
      "Note: you may need to restart the kernel to use updated packages.\n"
     ]
    }
   ],
   "source": [
    "%pip install numpy==1.26.0"
   ]
  },
  {
   "cell_type": "code",
   "execution_count": 4,
   "metadata": {},
   "outputs": [
    {
     "name": "stdout",
     "output_type": "stream",
     "text": [
      "Defaulting to user installation because normal site-packages is not writeable\n",
      "Requirement already satisfied: onnx in /home/Gokulprasath.R/.local/lib/python3.9/site-packages (1.16.1)\n",
      "Requirement already satisfied: numpy>=1.20 in /home/Gokulprasath.R/.local/lib/python3.9/site-packages (from onnx) (1.26.0)\n",
      "Requirement already satisfied: protobuf>=3.20.2 in /usr/local/lib/python3.9/site-packages (from onnx) (4.25.3)\n",
      "Note: you may need to restart the kernel to use updated packages.\n"
     ]
    }
   ],
   "source": [
    "%pip install onnx"
   ]
  },
  {
   "cell_type": "code",
   "execution_count": 1,
   "metadata": {},
   "outputs": [
    {
     "name": "stdout",
     "output_type": "stream",
     "text": [
      "[[-4.65003364e-02  4.96842936e-02 -1.67709589e-02 -1.37947220e-02\n",
      "   1.14190876e-02  5.73208444e-02  1.81501068e-03  1.34836091e-02\n",
      "  -1.29638342e-02 -9.15626995e-03  4.52919602e-02  9.73468239e-04\n",
      "  -1.64914057e-02 -1.16463006e-02 -8.16036761e-02  3.03941853e-02\n",
      "  -8.69829208e-03 -4.86878753e-02 -2.23871786e-02 -3.73383835e-02\n",
      "  -5.04437648e-02 -2.55398098e-02 -4.53855544e-02 -1.51968207e-02\n",
      "   2.16337908e-02 -6.55875774e-04 -1.06775768e-01 -4.10663374e-02\n",
      "  -1.30895339e-02  3.71572152e-02 -1.69861186e-02 -2.06289329e-02\n",
      "  -2.03848723e-02 -9.04931780e-03  6.20940607e-03 -3.66252214e-02\n",
      "  -8.84809718e-03 -4.39511091e-02 -6.48350455e-03 -7.44510815e-02\n",
      "   2.50734825e-04 -1.57219209e-02  3.87140154e-03  8.21539983e-02\n",
      "   6.30682781e-02  7.26114085e-04 -2.79770400e-02 -1.12528522e-02\n",
      "   1.06348367e-02 -1.80301964e-02  3.09963785e-02 -2.16878671e-02\n",
      "  -4.38600332e-02  4.85523902e-02 -1.48778595e-02  1.64098460e-02\n",
      "   5.14517725e-02  3.43276076e-02  8.14242885e-02  1.11994771e-02\n",
      "  -4.94876243e-02 -3.54896821e-02 -4.13832664e-02 -2.00629625e-02\n",
      "  -1.41808316e-02 -2.68339720e-02  2.74719074e-02 -2.86582652e-02\n",
      "   1.80914830e-02  5.13103828e-02 -4.45441045e-02 -1.18872374e-02\n",
      "  -2.75381170e-02  5.72674908e-03  3.78041441e-04 -2.96703931e-02\n",
      "  -1.59183014e-02 -1.79356821e-02 -2.65576057e-02  4.91637364e-02\n",
      "   3.94095294e-02  2.03865822e-02  3.42812538e-02  7.11574852e-02\n",
      "  -2.41761543e-02  4.00132872e-02 -2.31858203e-03  2.70387623e-02\n",
      "  -1.80174895e-02 -1.91290267e-02  3.60197462e-02 -3.96749265e-02\n",
      "  -7.00547248e-02  1.64590613e-03 -2.02860329e-02 -2.57222801e-02\n",
      "  -5.76531095e-03  7.37781217e-03  3.45364586e-02  5.03577441e-02\n",
      "   1.11373169e-02 -7.26055875e-02 -2.18058117e-02 -5.35795018e-02\n",
      "  -3.72627899e-02 -2.10526190e-03 -5.05125858e-02  3.05874534e-02\n",
      "  -1.82465464e-02  3.28801163e-02 -3.11750136e-02  4.40713875e-02\n",
      "   2.85131261e-02  1.16987228e-01  1.17248241e-02  4.15752903e-02\n",
      "  -5.57823628e-02 -6.76239356e-02  1.95351429e-03 -1.71670708e-05\n",
      "  -2.39961501e-02  6.55648336e-02 -2.76606735e-02  5.20424210e-02\n",
      "  -1.59945004e-02 -4.73554209e-02 -2.25261133e-02  3.61741171e-03\n",
      "   7.10273385e-02  2.75727771e-02  1.01631600e-02  2.05066577e-02\n",
      "  -1.44172776e-02  3.70032005e-02  5.99217266e-02  4.73655798e-02\n",
      "  -2.60476489e-02 -4.68267836e-02 -4.76542227e-02 -2.40518339e-02\n",
      "  -3.45350266e-03 -1.01778932e-01  4.99986596e-02 -5.71997873e-02\n",
      "  -8.13906416e-02  5.04317209e-02  6.74137101e-02 -1.00694843e-01\n",
      "  -6.43884810e-03 -6.41348064e-02 -1.43958041e-02  4.62081768e-02\n",
      "  -5.20007424e-02  1.42025594e-02 -2.03041937e-02  1.41609134e-02\n",
      "  -3.71539663e-03  8.25802460e-02  5.46023669e-03  4.06520404e-02\n",
      "  -6.17905818e-02  1.32532017e-02 -5.59192337e-02 -1.26279239e-02\n",
      "   8.81977305e-02 -3.18842456e-02  3.31719821e-05  2.89928308e-03\n",
      "  -5.60061820e-02 -3.59358639e-02  4.26136665e-02  4.74076010e-02\n",
      "   5.26115559e-02  8.92313779e-04  2.05237381e-02  3.49402986e-02\n",
      "  -3.29000428e-02 -2.23190803e-02 -1.70802418e-02  4.19984721e-02\n",
      "   4.94108200e-02 -2.05485150e-02  5.93749918e-02  2.89726816e-02\n",
      "  -9.53581482e-02 -4.68484871e-02 -2.08080350e-03  9.90821235e-03\n",
      "  -2.99902949e-02  1.25033753e-02 -7.49251526e-03 -2.66497321e-02\n",
      "  -4.07931255e-03 -1.69669259e-02  1.73000749e-02  1.59666352e-02\n",
      "  -2.60263751e-03 -1.97286066e-02  6.52251467e-02  2.88128667e-03\n",
      "   7.81041905e-02  2.94054281e-02 -6.68065399e-02  2.09741648e-02\n",
      "  -7.07735792e-02 -2.82241087e-02  2.53009312e-02  3.08475792e-02\n",
      "   7.15037584e-02  7.13473111e-02  7.04272278e-03 -3.24161239e-02\n",
      "   9.45369899e-03  5.36778383e-02 -1.04877971e-01  4.51058038e-02\n",
      "  -3.05251069e-02 -5.18316887e-02 -2.71499809e-02 -5.84991882e-03\n",
      "  -6.41015451e-03 -2.39788108e-02  4.38541826e-03 -2.91842017e-02\n",
      "  -7.24205673e-02  1.25330780e-02  1.58566572e-02  1.67829663e-01\n",
      "  -1.42018090e-03 -1.07123815e-02 -3.23634669e-02  4.72463220e-02\n",
      "   2.83387564e-02  1.90962944e-02  3.40504535e-02  4.66561727e-02\n",
      "  -7.65368268e-02 -1.36008598e-02 -6.00119568e-02  1.08804498e-02\n",
      "  -1.67237036e-02 -3.06356158e-02  2.04032063e-02  1.83606669e-02\n",
      "  -2.60716099e-02 -2.32319608e-02  4.29968722e-02  4.59084250e-02\n",
      "   4.04061414e-02  2.91417781e-02  1.02925390e-01 -2.52796095e-02\n",
      "  -4.27502431e-02 -3.76042537e-02  3.59787373e-03 -2.07097139e-02\n",
      "  -3.22971940e-02 -7.16355741e-02  5.64491078e-02  8.81813765e-02\n",
      "  -8.20929036e-02 -2.27488112e-02  2.52409815e-03  5.53685725e-02\n",
      "   5.92277534e-02 -6.51832297e-02 -3.14165093e-02 -5.91396056e-02\n",
      "   7.48559386e-02 -4.60558720e-02  5.64176962e-02  8.89912993e-03\n",
      "   4.61764038e-02  1.70730278e-02 -5.44860102e-02  2.64749713e-02\n",
      "  -2.12615151e-02  1.03991203e-01  2.61013367e-04 -3.50378901e-02\n",
      "  -4.17578891e-02 -2.57778503e-02 -4.50566337e-02 -2.52359416e-02\n",
      "   6.34898990e-03 -5.02685718e-02  2.33680867e-02  8.90678540e-02\n",
      "  -4.68499847e-02  7.88694154e-03  7.66416788e-02  4.94403504e-02\n",
      "  -3.59692685e-02 -3.61928008e-02 -8.39985237e-02  4.45991941e-02\n",
      "   3.56842950e-02 -8.68545100e-02  4.54204977e-02  7.28041381e-02\n",
      "   2.18398757e-02 -8.01269989e-03 -1.70350503e-02  2.14762650e-02\n",
      "   8.18756502e-03 -4.08289116e-03 -6.84986413e-02  4.33655875e-03\n",
      "   7.99345132e-03 -4.25619408e-02  7.22599700e-02  2.78244838e-02\n",
      "  -3.25139165e-02 -7.46837631e-02  6.85202628e-02  2.20792796e-02\n",
      "   4.57010567e-02  7.54394103e-03 -4.23226804e-02 -5.64621985e-02\n",
      "   2.88983043e-02  1.51737351e-02 -6.29347861e-02  6.95455298e-02\n",
      "   1.59666073e-02 -5.20028695e-02  2.57657655e-02  1.51120340e-02\n",
      "  -5.39363250e-02  2.34052185e-02 -4.77448739e-02  5.00379913e-02\n",
      "   3.79253253e-02 -1.22754417e-01 -3.94821838e-02  4.96491902e-02\n",
      "   1.54272560e-02 -2.05310173e-02 -1.34486156e-02  9.87104848e-02\n",
      "  -1.98315773e-02 -3.45601216e-02 -2.42854841e-02  4.57966439e-02\n",
      "  -1.41628422e-02  5.62568158e-02 -3.71260103e-03 -9.61311534e-02\n",
      "   2.51893997e-02  2.51017492e-02  7.57507607e-03 -2.94661405e-03\n",
      "   3.65830250e-02  4.39057127e-02 -4.63000163e-02  7.69610256e-02\n",
      "   1.06207980e-02 -3.37273888e-02  1.72198601e-02 -1.47111136e-02\n",
      "  -5.24442047e-02  2.21523233e-02  3.49181034e-02 -1.37750627e-02\n",
      "  -1.05324807e-02 -1.17321564e-02 -8.08058865e-03  1.08131170e-01\n",
      "  -4.32308577e-02  3.40187512e-02 -9.53069422e-03  2.44518276e-02\n",
      "   7.79409287e-03 -2.31895726e-02 -1.98471174e-03  8.63513071e-03\n",
      "  -8.03998560e-02  7.98815936e-02 -5.25626503e-02  9.05946419e-02\n",
      "  -3.79872508e-02  2.41251495e-02  2.87142564e-02  8.51706862e-02\n",
      "  -7.79182976e-03 -7.09470510e-02  3.04211527e-02  2.71174610e-02\n",
      "  -5.77866994e-02 -1.65387113e-02 -4.01432253e-02 -8.71203002e-03\n",
      "  -1.42553914e-02  1.02660367e-02  3.17536644e-03  1.38957193e-02\n",
      "  -7.00835884e-02 -8.91479626e-02 -2.17620395e-02 -5.59867285e-02\n",
      "   4.41207550e-02  4.80290083e-03  2.36408901e-03 -6.92451559e-03\n",
      "   9.80270840e-03  2.13167164e-02 -4.27026264e-02 -2.72680856e-02\n",
      "   7.85363168e-02 -4.76093926e-02  3.91481258e-02  6.81591630e-02\n",
      "   5.50665334e-02  4.47669206e-03 -3.64922825e-03  2.03903336e-02\n",
      "  -2.23813765e-03 -1.94236753e-03 -2.39713993e-02 -9.55471843e-02\n",
      "   3.90879586e-02 -2.10541096e-02 -3.07266433e-02  3.16468887e-02\n",
      "  -1.70485768e-02  1.33779533e-02  5.80268027e-03  3.71621102e-02\n",
      "   3.17688584e-02  4.76798080e-02 -1.79582741e-02 -4.58025746e-02\n",
      "   1.17754363e-01  4.50801551e-02  3.17434110e-02  2.73318943e-02\n",
      "  -5.81490785e-05  1.05146533e-02  2.11053044e-02 -2.92091034e-02\n",
      "   2.15460826e-02  1.27223032e-02  1.58375949e-02 -2.79936451e-03\n",
      "   3.46141844e-03 -2.44911462e-02 -5.50157055e-02  6.55341670e-02\n",
      "   3.30081396e-02 -2.40476411e-02  2.77784243e-02  8.65585357e-02\n",
      "  -6.64792880e-02  3.53927352e-02 -5.50976954e-03  9.65902768e-03\n",
      "  -3.60515006e-02  5.86682260e-02  1.02829495e-02  5.05310576e-03\n",
      "   2.61781327e-02  1.50842611e-02 -1.73933748e-02  7.08662868e-02\n",
      "   3.33493995e-03  4.70912866e-02  3.60106416e-02  5.40875783e-03\n",
      "  -4.30050828e-02 -3.75016779e-03  4.59097996e-02  5.76218441e-02\n",
      "   6.45067766e-02 -2.82431599e-02  6.10307045e-03  1.04014333e-02\n",
      "  -4.91291434e-02  1.88981034e-02  1.73870668e-01  1.07220951e-02\n",
      "  -6.10380210e-02  1.75254233e-02  1.13962889e-01 -1.53955081e-02\n",
      "   4.64341566e-02 -1.14853345e-02 -2.86361258e-02  6.17945082e-02\n",
      "  -3.09524797e-02 -6.26296327e-02  4.57167998e-02  4.61853668e-02\n",
      "  -1.50418719e-02 -3.25481035e-02  1.99114438e-02  9.47900936e-02\n",
      "   7.69660771e-02  9.31959972e-02 -6.23932667e-02  6.85525611e-02\n",
      "   1.58926453e-02 -2.32070927e-02 -5.85134365e-02  4.59933244e-02\n",
      "   3.85957165e-03  3.34520591e-03 -6.85925484e-02  3.50934304e-02\n",
      "   1.42453862e-02 -4.40285653e-02  1.20331123e-02  1.61044627e-05]]\n"
     ]
    }
   ],
   "source": [
    "import onnx\n",
    "import onnxruntime as ort\n",
    "from onnxruntime_extensions import get_library_path\n",
    "from os import cpu_count\n",
    "\n",
    "sentences = [\"hello world\"]\n",
    "\n",
    "def load_onnx_model(model_filepath):\n",
    "  _options = ort.SessionOptions()\n",
    "  _options.inter_op_num_threads, _options.intra_op_num_threads = cpu_count(), cpu_count()\n",
    "  _options.register_custom_ops_library(get_library_path())\n",
    "  _providers = [\"CPUExecutionProvider\"]  # could use ort.get_available_providers()\n",
    "  return ort.InferenceSession(path_or_bytes=model_filepath, sess_options=_options, providers=_providers)\n",
    "\n",
    "model = load_onnx_model(\"/home/Gokulprasath.R/Downloads/model (2).onnx\")\n",
    "\n",
    "model_outputs = model.run(output_names=[\"outputs\"], input_feed={\"inputs\": sentences})[0]\n",
    "print(model_outputs)\n"
   ]
  },
  {
   "cell_type": "code",
   "execution_count": 8,
   "metadata": {},
   "outputs": [
    {
     "name": "stdout",
     "output_type": "stream",
     "text": [
      "Defaulting to user installation because normal site-packages is not writeable\n",
      "Collecting openpyxl\n",
      "  Downloading openpyxl-3.1.4-py2.py3-none-any.whl.metadata (2.5 kB)\n",
      "Collecting et-xmlfile (from openpyxl)\n",
      "  Downloading et_xmlfile-1.1.0-py3-none-any.whl.metadata (1.8 kB)\n",
      "Downloading openpyxl-3.1.4-py2.py3-none-any.whl (251 kB)\n",
      "\u001b[2K   \u001b[90m━━━━━━━━━━━━━━━━━━━━━━━━━━━━━━━━━━━━━━━━\u001b[0m \u001b[32m251.4/251.4 kB\u001b[0m \u001b[31m1.5 MB/s\u001b[0m eta \u001b[36m0:00:00\u001b[0ma \u001b[36m0:00:01\u001b[0m\n",
      "\u001b[?25hDownloading et_xmlfile-1.1.0-py3-none-any.whl (4.7 kB)\n",
      "Installing collected packages: et-xmlfile, openpyxl\n",
      "Successfully installed et-xmlfile-1.1.0 openpyxl-3.1.4\n",
      "Note: you may need to restart the kernel to use updated packages.\n"
     ]
    }
   ],
   "source": [
    "%pip install openpyxl"
   ]
  },
  {
   "cell_type": "code",
   "execution_count": 2,
   "metadata": {},
   "outputs": [],
   "source": [
    "import pandas as pd\n",
    "import numpy as np\n",
    "from sklearn.metrics.pairwise import cosine_similarity\n",
    "import onnxruntime as rt\n",
    "from onnxruntime_extensions import get_library_path\n",
    "from os import cpu_count"
   ]
  },
  {
   "cell_type": "code",
   "execution_count": 3,
   "metadata": {},
   "outputs": [
    {
     "name": "stdout",
     "output_type": "stream",
     "text": [
      "Model loaded successfully with custom ops\n"
     ]
    }
   ],
   "source": [
    "# Load the ONNX model\n",
    "def load_onnx_model(model_filepath):\n",
    "    _options = rt.SessionOptions()\n",
    "    _options.inter_op_num_threads = cpu_count()\n",
    "    _options.intra_op_num_threads = cpu_count()\n",
    "    _options.register_custom_ops_library(get_library_path())\n",
    "    _providers = [\"CPUExecutionProvider\"]\n",
    "    return rt.InferenceSession(path_or_bytes=model_filepath, sess_options=_options, providers=_providers)\n",
    "\n",
    "model_filepath = \"/home/Gokulprasath.R/Downloads/model (2).onnx\"\n",
    "model = load_onnx_model(model_filepath)\n",
    "print(\"Model loaded successfully with custom ops\")"
   ]
  },
  {
   "cell_type": "code",
   "execution_count": 4,
   "metadata": {},
   "outputs": [],
   "source": [
    "# Generate embeddings\n",
    "def get_embeddings(model, utterances):\n",
    "    inputs = model.get_inputs()\n",
    "    input_name = inputs[0].name\n",
    "    \n",
    "    embeddings = []\n",
    "    for utterance in utterances:\n",
    "        # Prepare input for the model\n",
    "        input_data = np.array([utterance], dtype=object)\n",
    "        # Get the embedding\n",
    "        embedding = model.run(None, {input_name: input_data})[0]\n",
    "        embeddings.append(embedding)\n",
    "    return np.array(embeddings).squeeze(axis=1)"
   ]
  },
  {
   "cell_type": "code",
   "execution_count": 5,
   "metadata": {},
   "outputs": [],
   "source": [
    "# Compute cosine similarity\n",
    "def find_similarities(test_embedding, train_embeddings, threshold=0.6):\n",
    "    similarities = cosine_similarity(test_embedding.reshape(1, -1), train_embeddings)\n",
    "    similarities = similarities.flatten()\n",
    "\n",
    "    matched_indices = np.where(similarities >= threshold)[0]\n",
    "    print([(index, similarities[index], True) for index in matched_indices])\n",
    "    \n",
    "    if len(matched_indices) == 0:\n",
    "        max_index = np.argmax(similarities)\n",
    "        return [(max_index, similarities[max_index], False)]\n",
    "    else:\n",
    "        return [(index, similarities[index], True) for index in matched_indices]"
   ]
  },
  {
   "cell_type": "code",
   "execution_count": 6,
   "metadata": {},
   "outputs": [],
   "source": [
    "\n",
    "# Load data from the Excel file\n",
    "df_train = pd.read_excel(\"utterances.xlsx\", sheet_name=\"Training Utterances\")\n",
    "df_test = pd.read_excel(\"utterances.xlsx\", sheet_name=\"Testing Utterances\")\n",
    "\n",
    "# Generate embeddings\n",
    "train_utterances = df_train[\"Utterance\"].tolist()\n",
    "test_utterances = df_test[\"Utterance\"].tolist()\n",
    "\n",
    "train_embeddings = get_embeddings(model, train_utterances)\n",
    "test_embeddings = get_embeddings(model, test_utterances)"
   ]
  },
  {
   "cell_type": "code",
   "execution_count": 8,
   "metadata": {},
   "outputs": [
    {
     "name": "stdout",
     "output_type": "stream",
     "text": [
      "[(1, 1.0000004, True), (2, 0.66838694, True), (3, 0.79187524, True), (5, 0.7598724, True), (6, 0.8279598, True), (9, 0.6089289, True)]\n",
      "[(11, 0.8393193, True), (12, 0.83791685, True), (13, 0.6136917, True), (15, 0.64152414, True), (18, 0.77708215, True), (19, 0.70270336, True)]\n",
      "[]\n",
      "[(30, 0.83342093, True), (31, 0.7773285, True)]\n",
      "[(1, 0.729414, True), (3, 0.6768036, True), (4, 0.61927795, True), (5, 0.6542609, True), (6, 0.60675144, True), (9, 0.6387447, True)]\n",
      "[(11, 0.704901, True), (15, 0.60087, True), (18, 0.6313546, True)]\n",
      "[(21, 0.63171935, True), (28, 0.60464996, True)]\n",
      "[(30, 0.80920047, True), (31, 0.8195977, True)]\n",
      "[(1, 0.9497502, True), (2, 0.6683379, True), (3, 0.8774365, True), (5, 0.7598709, True), (6, 0.81508744, True), (7, 0.6322825, True), (9, 0.69104147, True)]\n",
      "[(11, 0.84097826, True), (12, 0.7021097, True), (13, 0.70678705, True), (15, 0.71619725, True), (17, 0.6624557, True), (19, 0.7987547, True)]\n",
      "                    Testing utterance Expected Intent Expected ID Matched ID  \\\n",
      "0  Hello, how can I assist you today?        Greeting          T1         G2   \n",
      "1  Hello, how can I assist you today?        Greeting          T1         G3   \n",
      "2  Hello, how can I assist you today?        Greeting          T1         G4   \n",
      "3  Hello, how can I assist you today?        Greeting          T1         G6   \n",
      "4  Hello, how can I assist you today?        Greeting          T1         G7   \n",
      "\n",
      "  Matched Intent                    Matched utterance  \n",
      "0       Greeting   Hello! How can I assist you today?  \n",
      "1       Greeting     Good day! What can I do for you?  \n",
      "2       Greeting        Hi there! How can I help you?  \n",
      "3       Greeting     Greetings! How may I assist you?  \n",
      "4       Greeting  Hello! How can I support you today?  \n"
     ]
    }
   ],
   "source": [
    "# Select one testing utterance for comparison\n",
    "results = []\n",
    "for selected_test_index in range(len(test_utterances)):\n",
    "    selected_test_embedding = test_embeddings[selected_test_index]\n",
    "    test_utterance = test_utterances[selected_test_index]\n",
    "    test_intent = df_test.loc[selected_test_index, \"Intent\"]\n",
    "    test_id = df_test.loc[selected_test_index, \"ID\"]\n",
    "\n",
    "    # Find similarities\n",
    "    similarities = find_similarities(selected_test_embedding, train_embeddings)\n",
    "\n",
    "    for index, similarity, is_above_threshold in similarities:\n",
    "        matched_utterance = train_utterances[index]\n",
    "        matched_intent = df_train.loc[index, \"Intent\"]\n",
    "        matched_id = df_train.loc[index, \"ID\"]\n",
    "        \n",
    "        if is_above_threshold:\n",
    "            results.append([test_utterance, test_intent, test_id, matched_id, matched_intent, matched_utterance])\n",
    "        else:\n",
    "            results.append([test_utterance, test_intent, test_id, matched_id, matched_intent, f\" - {matched_utterance}\"])\n",
    "\n",
    "# Create DataFrame for results\n",
    "df_results = pd.DataFrame(results, columns=[\"Testing utterance\", \"Expected Intent\", \"Expected ID\", \"Matched ID\", \"Matched Intent\", \"Matched utterance\"])\n",
    "\n",
    "# Save results to CSV\n",
    "df_results.to_csv(\"similarity_results.csv\", index=False)\n",
    "\n",
    "# Output a sample of the results\n",
    "print(df_results.head())"
   ]
  },
  {
   "cell_type": "code",
   "execution_count": null,
   "metadata": {},
   "outputs": [],
   "source": []
  }
 ],
 "metadata": {
  "kernelspec": {
   "display_name": "env",
   "language": "python",
   "name": "python3"
  },
  "language_info": {
   "codemirror_mode": {
    "name": "ipython",
    "version": 3
   },
   "file_extension": ".py",
   "mimetype": "text/x-python",
   "name": "python",
   "nbconvert_exporter": "python",
   "pygments_lexer": "ipython3",
   "version": "3.9.8"
  }
 },
 "nbformat": 4,
 "nbformat_minor": 2
}
